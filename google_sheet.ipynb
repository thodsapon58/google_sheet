{
  "nbformat": 4,
  "nbformat_minor": 0,
  "metadata": {
    "colab": {
      "name": "google_sheet.ipynb",
      "provenance": [],
      "collapsed_sections": [],
      "authorship_tag": "ABX9TyM4mEd7BiXJbW+/SBEO/HcX",
      "include_colab_link": true
    },
    "kernelspec": {
      "name": "python3",
      "display_name": "Python 3"
    },
    "language_info": {
      "name": "python"
    }
  },
  "cells": [
    {
      "cell_type": "markdown",
      "metadata": {
        "id": "view-in-github",
        "colab_type": "text"
      },
      "source": [
        "<a href=\"https://colab.research.google.com/github/thodsapon58/google_sheet/blob/main/google_sheet.ipynb\" target=\"_parent\"><img src=\"https://colab.research.google.com/assets/colab-badge.svg\" alt=\"Open In Colab\"/></a>"
      ]
    },
    {
      "cell_type": "code",
      "metadata": {
        "id": "VVbAn5zTWdOo"
      },
      "source": [
        "def createnew_googlesheet():\n",
        "\n",
        "    from pydrive.auth import GoogleAuth\n",
        "    from pydrive.drive import GoogleDrive \n",
        "    from google.colab import auth \n",
        "    from oauth2client.client import GoogleCredentials\n",
        "\n",
        "    auth.authenticate_user()\n",
        "    gauth = GoogleAuth()\n",
        "    gauth.credentials = GoogleCredentials.get_application_default()\n",
        "    drive = GoogleDrive(gauth)\n",
        "\n",
        "    import gspread\n",
        "    from gspread_dataframe import set_with_dataframe\n",
        "    from gspread_dataframe import get_as_dataframe\n",
        "\n",
        "    gc = gspread.authorize(GoogleCredentials.get_application_default())\n",
        "\n",
        "    #สร้างชีทแต่ไม่ระบุ Folder มันจะอยู๋ที่ mydrive เลย\n",
        "    sh = gc.create('A new spreadsheet2')"
      ],
      "execution_count": null,
      "outputs": []
    },
    {
      "cell_type": "code",
      "metadata": {
        "id": "RBS4b7sFcSms"
      },
      "source": [
        "createnew_googlesheet()"
      ],
      "execution_count": null,
      "outputs": []
    },
    {
      "cell_type": "code",
      "metadata": {
        "id": "HsWyx_bncTQZ"
      },
      "source": [
        "def createnewgooglesheet_specific_folder():\n",
        "    from pydrive.auth import GoogleAuth\n",
        "    from pydrive.drive import GoogleDrive \n",
        "    from google.colab import auth \n",
        "    from oauth2client.client import GoogleCredentials\n",
        "\n",
        "    auth.authenticate_user()\n",
        "    gauth = GoogleAuth()\n",
        "    gauth.credentials = GoogleCredentials.get_application_default()\n",
        "    drive = GoogleDrive(gauth)\n",
        "\n",
        "    import gspread\n",
        "    from gspread_dataframe import set_with_dataframe\n",
        "    from gspread_dataframe import get_as_dataframe\n",
        "\n",
        "    gc = gspread.authorize(GoogleCredentials.get_application_default())\n",
        "\n",
        "    from apiclient import discovery\n",
        "\n",
        "    destFolderId = 'Folder ID'  # Please set the destination folder ID.\n",
        "    title = 't1'  # Please set the Spreadsheet name.\n",
        "\n",
        "    drive_service = discovery.build('drive', 'v3', credentials=gauth.credentials)  # Use \"credentials\" of \"gspread.authorize(credentials)\".\n",
        "    file_metadata = {\n",
        "        'name': title,\n",
        "        'mimeType': 'application/vnd.google-apps.spreadsheet',\n",
        "        'parents': [destFolderId]\n",
        "    }\n",
        "    file = drive_service.files().create(body=file_metadata).execute()\n",
        "    print(file)\n",
        "\n",
        "\n",
        "    permission = {\n",
        "        \"emailAddress\": '@email',\n",
        "        \"role\": 'owner',\n",
        "        \"type\": 'user',\n",
        "    }\n",
        "    drive_service.permissions().create(fileId=file['id'], body=permission, transferOwnership=True).execute()\n",
        "\n",
        "\n",
        "\n",
        "\n",
        "\n",
        "    return file['id']"
      ],
      "execution_count": 3,
      "outputs": []
    },
    {
      "cell_type": "code",
      "metadata": {
        "id": "qilo5MSKekHX"
      },
      "source": [
        "fileid = createnewgooglesheet_specific_folder()"
      ],
      "execution_count": null,
      "outputs": []
    },
    {
      "cell_type": "code",
      "metadata": {
        "id": "5mJY-Ct_egeF"
      },
      "source": [
        "# Thank from https://stackoverflow.com/questions/57606718/creating-a-spreadsheet-in-a-folder-with-gspread\n",
        "# and https://stackoverflow.com/questions/54162891/google-drive-api-v3-change-file-permissions-and-get-publicly-shareable-link-pyt"
      ],
      "execution_count": null,
      "outputs": []
    },
    {
      "cell_type": "markdown",
      "metadata": {
        "id": "M-S7-N22CDAe"
      },
      "source": [
        "การ append row ใน google sheet "
      ]
    },
    {
      "cell_type": "code",
      "metadata": {
        "id": "yKn-Mc0R_Al_"
      },
      "source": [
        "def next_available_row(worksheet):\n",
        "    str_list = list(filter(None, worksheet.col_values(1)))\n",
        "    return str(len(str_list)+1)\n",
        "\n",
        "\n",
        "from pydrive.auth import GoogleAuth\n",
        "from pydrive.drive import GoogleDrive \n",
        "from google.colab import auth \n",
        "from oauth2client.client import GoogleCredentials\n",
        "\n",
        "auth.authenticate_user()\n",
        "gauth = GoogleAuth()\n",
        "gauth.credentials = GoogleCredentials.get_application_default()\n",
        "drive = GoogleDrive(gauth)\n",
        "\n",
        "import gspread\n",
        "from gspread_dataframe import set_with_dataframe\n",
        "from gspread_dataframe import get_as_dataframe\n",
        "\n",
        "gc = gspread.authorize(GoogleCredentials.get_application_default())\n",
        "\n",
        "\n",
        "wb_logfile= gc.open_by_url('URL google sheet')\n",
        "sheet1 = wb_logfile.worksheet('Logfile Report')\n",
        "next_row = next_available_row(sheet1)\n",
        "\n",
        "    #insert on the next available row\n",
        "\n",
        "sheet1.update_acell(\"A{}\".format(next_row), '')\n",
        "sheet1.update_acell(\"B{}\".format(next_row), '')\n",
        "sheet1.update_acell(\"C{}\".format(next_row), '')\n",
        "sheet1.update_acell(\"D{}\".format(next_row), '')\n",
        "sheet1.update_acell(\"E{}\".format(next_row), '')\n",
        "sheet1.update_acell(\"F{}\".format(next_row), '')\n",
        "sheet1.update_acell(\"G{}\".format(next_row), '')\n",
        "sheet1.update_acell(\"H{}\".format(next_row), '')\n",
        "sheet1.update_acell(\"I{}\".format(next_row), '')\n",
        "sheet1.update_acell(\"J{}\".format(next_row), '')\n",
        "\n",
        "\n",
        "\n",
        "#Thank from https://stackoverflow.com/questions/40781295/how-to-find-the-first-empty-row-of-a-google-spread-sheet-using-python-gspread/42476314#42476314"
      ],
      "execution_count": null,
      "outputs": []
    },
    {
      "cell_type": "code",
      "metadata": {
        "id": "9LwZLLR-CQrK"
      },
      "source": [
        "def get_logfile():\n",
        "    "
      ],
      "execution_count": null,
      "outputs": []
    }
  ]
}